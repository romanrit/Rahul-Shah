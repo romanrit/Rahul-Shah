{
 "cells": [
  {
   "cell_type": "code",
   "execution_count": 1,
   "id": "cd2c6cc4-a1c5-4a23-aeb9-c5ada3d022f4",
   "metadata": {},
   "outputs": [
    {
     "name": "stdout",
     "output_type": "stream",
     "text": [
      "The sum of the first 10 positive integers is: 55\n"
     ]
    }
   ],
   "source": [
    "numbers = [1, 2, 3, 4, 5, 6, 7, 8, 9, 10]\n",
    "total_sum = 0\n",
    "for number in numbers:\n",
    "    total_sum += number\n",
    "print(\"The sum of the first 10 positive integers is:\", total_sum)"
   ]
  },
  {
   "cell_type": "code",
   "execution_count": 2,
   "id": "21fe76f4-fdf6-4fbe-91a3-d35ed4d47fbe",
   "metadata": {},
   "outputs": [
    {
     "name": "stdout",
     "output_type": "stream",
     "text": [
      "1. Inception\n",
      "2. The Shawshank Redemption\n",
      "3. The Godfather\n",
      "4. Pulp Fiction\n",
      "5. The Dark Knight\n"
     ]
    }
   ],
   "source": [
    "favorite_movies = [\"Inception\", \"The Shawshank Redemption\", \"The Godfather\", \"Pulp Fiction\", \"The Dark Knight\"]\n",
    "for index, movie in enumerate(favorite_movies, start=1):\n",
    "    print(f\"{index}. {movie}\")"
   ]
  },
  {
   "cell_type": "code",
   "execution_count": 3,
   "id": "715e9cd2-8236-45e8-982f-c4e0438f5340",
   "metadata": {},
   "outputs": [
    {
     "name": "stdout",
     "output_type": "stream",
     "text": [
      "['1', '2', '3', '4', '5', '6', '7', '8', '9', '10', '11', '12', '13', '14', '15', '16', '17', '18', '19', '20']\n"
     ]
    }
   ],
   "source": [
    "\n",
    "number_list = list(range(1, 20 + 1))\n",
    "\n",
    "\n",
    "string_list = []\n",
    "\n",
    "\n",
    "for number in number_list:\n",
    "    \n",
    "    string_list.append(str(number))\n",
    "\n",
    "\n",
    "print(string_list)"
   ]
  },
  {
   "cell_type": "code",
   "execution_count": 4,
   "id": "772e67e4-d963-43df-b890-3189791e035e",
   "metadata": {},
   "outputs": [
    {
     "name": "stdout",
     "output_type": "stream",
     "text": [
      "2.2\n",
      "4.4\n",
      "6.6\n"
     ]
    }
   ],
   "source": [
    "\n",
    "decimal_strings = ['1.1', '2.2', '3.3']\n",
    "\n",
    "\n",
    "for decimal_string in decimal_strings:\n",
    " \n",
    "    decimal_number = float(decimal_string)\n",
    "\n",
    "    doubled_value = decimal_number * 2\n",
    "   \n",
    "    print(doubled_value)\n"
   ]
  },
  {
   "cell_type": "code",
   "execution_count": 1,
   "id": "e650b60f-ee51-471a-9945-eda1559374c2",
   "metadata": {},
   "outputs": [
    {
     "name": "stdin",
     "output_type": "stream",
     "text": [
      "Enter the name of user 1:  Rahul\n",
      "Enter the name of user 2:  Raman\n",
      "Enter the name of user 3:  Rajesh\n",
      "Enter the name of user 4:  shyam\n",
      "Enter the name of user 5:  Joy\n",
      "Enter the name of user 6:  Roman\n",
      "Enter the name of user 7:  Tiger\n",
      "Enter the name of user 8:  Ajay\n",
      "Enter the name of user 9:  Annand\n",
      "Enter the name of user 10:  Nman\n"
     ]
    },
    {
     "name": "stdout",
     "output_type": "stream",
     "text": [
      "Names starting with 'a' or 'A':\n",
      "Ajay\n",
      "Annand\n"
     ]
    }
   ],
   "source": [
    "names_list = []\n",
    "\n",
    "\n",
    "for i in range(10):\n",
    "    name = input(f\"Enter the name of user {i+1}: \")\n",
    "    names_list.append(name)\n",
    "\n",
    "\n",
    "print(\"Names starting with 'a' or 'A':\")\n",
    "for name in names_list:\n",
    "    if name.lower().startswith('a'):\n",
    "        print(name)\n"
   ]
  },
  {
   "cell_type": "code",
   "execution_count": null,
   "id": "e679eb16-4c10-4815-8c05-ee93be3c857b",
   "metadata": {},
   "outputs": [
    {
     "name": "stdin",
     "output_type": "stream",
     "text": [
      "Enter name 1:  Aditya\n",
      "Enter name 2:  Raman\n",
      "Enter name 3:  Rama\n"
     ]
    }
   ],
   "source": [
    "def collect_and_filter_names():\n",
    "    names = []\n",
    "    \n",
    "   \n",
    "    for i in range(10):\n",
    "        name = input(f\"Enter name {i+1}: \")\n",
    "        names.append(name)\n",
    "    \n",
    "    \n",
    "    filtered_names = [name for name in names if name.endswith('a') or name.endswith('A')]\n",
    "    \n",
    "    \n",
    "    print(\"Names ending with 'a' or 'A':\")\n",
    "    for name in filtered_names:\n",
    "        print(name)\n",
    "collect_and_filter_names()"
   ]
  },
  {
   "cell_type": "raw",
   "id": "4eee0586-a36d-4cfa-896a-6f0f2d395bbf",
   "metadata": {},
   "source": [
    "\n"
   ]
  },
  {
   "cell_type": "code",
   "execution_count": null,
   "id": "743204c3-d789-4195-b32b-a24109d3e669",
   "metadata": {},
   "outputs": [],
   "source": []
  },
  {
   "cell_type": "code",
   "execution_count": null,
   "id": "9cede5a7-5cb6-4c5b-9d79-fbba4e763646",
   "metadata": {},
   "outputs": [],
   "source": []
  },
  {
   "cell_type": "code",
   "execution_count": null,
   "id": "5db783f4-2119-4692-8a91-e9f14b71ae29",
   "metadata": {},
   "outputs": [],
   "source": []
  },
  {
   "cell_type": "code",
   "execution_count": null,
   "id": "f0027a0e-1922-4114-b913-61c6fbae1c36",
   "metadata": {},
   "outputs": [],
   "source": []
  },
  {
   "cell_type": "code",
   "execution_count": null,
   "id": "a08dab4f-7c9a-40a2-ad40-3286ccd44cb1",
   "metadata": {
    "scrolled": true
   },
   "outputs": [],
   "source": []
  },
  {
   "cell_type": "code",
   "execution_count": null,
   "id": "1a57a060-bdc5-41cc-8866-9cffeafcb89e",
   "metadata": {},
   "outputs": [],
   "source": [
    "\n",
    "    "
   ]
  },
  {
   "cell_type": "code",
   "execution_count": null,
   "id": "ed7b49b2-ec7a-43f0-b0c6-ca09015c2ed2",
   "metadata": {},
   "outputs": [],
   "source": [
    "\n"
   ]
  },
  {
   "cell_type": "code",
   "execution_count": null,
   "id": "64fdd95f-a1e2-4d4c-afce-f2f4ae7430b6",
   "metadata": {},
   "outputs": [],
   "source": []
  }
 ],
 "metadata": {
  "kernelspec": {
   "display_name": "venv",
   "language": "python",
   "name": "venv"
  },
  "language_info": {
   "codemirror_mode": {
    "name": "ipython",
    "version": 3
   },
   "file_extension": ".py",
   "mimetype": "text/x-python",
   "name": "python",
   "nbconvert_exporter": "python",
   "pygments_lexer": "ipython3",
   "version": "3.11.7"
  }
 },
 "nbformat": 4,
 "nbformat_minor": 5
}
